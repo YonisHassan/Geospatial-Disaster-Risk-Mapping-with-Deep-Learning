# Visualizations
fig = px.scatter_geo(
    grid, lat='latitude', lon='longitude', color='pred_class', size='pred_prob',
    color_discrete_sequence=px.colors.qualitative.Set2, size_max=8,
    title='Predicted Disaster Type and Confidence (sampled grid)'
)
plotly_html = ARTIFACTS_DIR / 'risk_map_plotly.html'
fig.write_html(str(plotly_html))
print('Saved', plotly_html)

m = folium.Map(location=[0, 0], zoom_start=2, tiles='cartodbpositron')
for _, r in grid.iterrows():
    folium.CircleMarker(
        location=[r['latitude'], r['longitude']],
        radius=3 + 10 * float(r['pred_prob']),
        color=None,
        fill=True,
        fill_opacity=0.6
    ).add_to(m)
folium_html = ARTIFACTS_DIR / 'risk_map_folium.html'
m.save(str(folium_html))
print('Saved', folium_html)# Predict on a global grid and save artifacts

grid = make_global_grid()
feature_names = load_feature_names()
le, scaler = load_artifacts()
X_grid = prepare_grid_features(grid, feature_names)
X_grid_scaled = scaler.transform(X_grid)
X_grid_scaled_df = pd.DataFrame(X_grid_scaled, columns=feature_names)

backend = 'keras'  # or 'pytorch'
if backend == 'pytorch':
    probs = predict_with_pytorch(X_grid_scaled_df, num_classes=len(le.classes_))
else:
    probs = predict_with_keras(X_grid_scaled_df)

top_idx = probs.argmax(axis=1)
grid['pred_class'] = le.inverse_transform(top_idx)
grid['pred_prob'] = probs.max(axis=1)

out_csv = ARTIFACTS_DIR / 'grid_predictions.csv'
grid[['latitude','longitude','pred_class','pred_prob']].to_csv(out_csv, index=False)
print('Saved', out_csv)def load_artifacts():
    le = joblib.load(LABEL_ENCODER_PATH)
    scaler = joblib.load(SCALER_PATH)
    return le, scaler


def predict_with_pytorch(X: pd.DataFrame, num_classes: int) -> np.ndarray:
    import torch.nn as nn
    class FFN(nn.Module):
        def __init__(self, input_dim, num_classes):
            super().__init__()
            self.net = nn.Sequential(
                nn.Linear(input_dim, 256), nn.ReLU(), nn.Dropout(0.2),
                nn.Linear(256, 128), nn.ReLU(), nn.Dropout(0.2),
                nn.Linear(128, num_classes)
            )
        def forward(self, x):
            return self.net(x)
    input_dim = X.shape[1]
    model = FFN(input_dim, num_classes)
    model.load_state_dict(torch.load(PYTORCH_MODEL_PATH, map_location='cpu'))
    model.eval()
    with torch.no_grad():
        logits = model(torch.tensor(X.values, dtype=torch.float32))
        probs = torch.softmax(logits, dim=1).numpy()
    return probs


def predict_with_keras(X: pd.DataFrame) -> np.ndarray:
    model = tf.keras.models.load_model(KERAS_MODEL_PATH)
    probs = model.predict(X.values, verbose=0)
    return probsdef make_global_grid(lat_step: float = 2.5, lon_step: float = 2.5) -> pd.DataFrame:
    lats = np.arange(-60, 61, lat_step)
    lons = np.arange(-180, 181, lon_step)
    grid = pd.DataFrame([(lat, lon) for lat in lats for lon in lons], columns=['latitude', 'longitude'])
    return grid


def load_feature_names():
    if FEATURES_COLUMNS_PATH.exists():
        return [l.strip() for l in FEATURES_COLUMNS_PATH.read_text().splitlines() if l.strip()]
    raise FileNotFoundError('features_columns.txt not found. Run 02_feature_engineering to generate it.')


def prepare_grid_features(grid_df: pd.DataFrame, feature_names: list[str]) -> pd.DataFrame:
    df = pd.DataFrame(0.0, index=grid_df.index, columns=feature_names, dtype=np.float32)
    for col in ['latitude', 'longitude']:
        if col in df.columns and col in grid_df.columns:
            df[col] = grid_df[col].astype(np.float32)
    return df# Imports and config
import numpy as np
import pandas as pd
from pathlib import Path
import joblib
import torch
import tensorflow as tf
import plotly.express as px
import folium

DATA_DIR = Path('../data').resolve()
MODELS_DIR = Path('../models').resolve()
ARTIFACTS_DIR = Path('../artifacts').resolve()
ARTIFACTS_DIR.mkdir(parents=True, exist_ok=True)

FEATURES_COLUMNS_PATH = DATA_DIR / 'features_columns.txt'
LABEL_ENCODER_PATH = DATA_DIR / 'label_encoder.pkl'
SCALER_PATH = DATA_DIR / 'scaler.pkl'
PYTORCH_MODEL_PATH = MODELS_DIR / 'pytorch_ffn.pt'
KERAS_MODEL_PATH = MODELS_DIR / 'keras_ffn'# 05 — Risk Mapping and Visualization

Score a geographic grid with the trained model and produce interactive risk maps using Plotly and Folium.