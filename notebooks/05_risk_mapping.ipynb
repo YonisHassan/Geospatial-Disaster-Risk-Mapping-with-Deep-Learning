# 05 — Risk Mapping and Visualization

Score a geographic grid with the trained model and produce interactive risk maps using Plotly and Folium.