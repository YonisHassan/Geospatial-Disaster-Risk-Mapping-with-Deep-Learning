# 03 — Deep Learning Modeling (PyTorch)

Build and train a feedforward neural network on the processed features. Evaluate with accuracy, macro-F1, and ROC-AUC.