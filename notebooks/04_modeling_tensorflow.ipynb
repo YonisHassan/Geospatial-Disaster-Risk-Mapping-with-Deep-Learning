# 04 — Deep Learning Modeling (TensorFlow/Keras)

Construct a Keras model with preprocessing layers. Train, validate, and compare to PyTorch and baseline models.