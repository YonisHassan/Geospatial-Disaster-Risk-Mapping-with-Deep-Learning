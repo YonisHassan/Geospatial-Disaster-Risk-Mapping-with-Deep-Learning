# 01 — Data Exploration and Cleaning

This notebook explores the Global Natural Calamities dataset, inspects missingness, performs basic cleaning, and saves a processed artifact for modeling.