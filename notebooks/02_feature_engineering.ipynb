# 02 — Feature Engineering and External Data Merge

Create features from the base dataset, enrich with climate and socio-economic indicators, and persist a modeling-ready table.